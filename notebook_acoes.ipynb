{
  "nbformat": 4,
  "nbformat_minor": 0,
  "metadata": {
    "colab": {
      "provenance": [],
      "authorship_tag": "ABX9TyOlWb3YlvVVdALDOjHCq1G4",
      "include_colab_link": true
    },
    "kernelspec": {
      "name": "python3",
      "display_name": "Python 3"
    },
    "language_info": {
      "name": "python"
    }
  },
  "cells": [
    {
      "cell_type": "markdown",
      "metadata": {
        "id": "view-in-github",
        "colab_type": "text"
      },
      "source": [
        "<a href=\"https://colab.research.google.com/github/Cecimedeiros/An-lise-Merdado-de-A-es/blob/main/notebook_acoes.ipynb\" target=\"_parent\"><img src=\"https://colab.research.google.com/assets/colab-badge.svg\" alt=\"Open In Colab\"/></a>"
      ]
    },
    {
      "cell_type": "code",
      "source": [
        "!pip install --upgrade pip\n",
        "!pip install pandasql"
      ],
      "metadata": {
        "colab": {
          "base_uri": "https://localhost:8080/"
        },
        "id": "5FctH2mfBTGd",
        "outputId": "6cb384b1-6f8a-4de6-dbbb-61d7232cc1ed"
      },
      "execution_count": 18,
      "outputs": [
        {
          "output_type": "stream",
          "name": "stdout",
          "text": [
            "Requirement already satisfied: pip in /usr/local/lib/python3.11/dist-packages (25.1.1)\n",
            "Requirement already satisfied: pandasql in /usr/local/lib/python3.11/dist-packages (0.7.3)\n",
            "Requirement already satisfied: numpy in /usr/local/lib/python3.11/dist-packages (from pandasql) (2.0.2)\n",
            "Requirement already satisfied: pandas in /usr/local/lib/python3.11/dist-packages (from pandasql) (2.2.2)\n",
            "Requirement already satisfied: sqlalchemy in /usr/local/lib/python3.11/dist-packages (from pandasql) (2.0.41)\n",
            "Requirement already satisfied: python-dateutil>=2.8.2 in /usr/local/lib/python3.11/dist-packages (from pandas->pandasql) (2.9.0.post0)\n",
            "Requirement already satisfied: pytz>=2020.1 in /usr/local/lib/python3.11/dist-packages (from pandas->pandasql) (2025.2)\n",
            "Requirement already satisfied: tzdata>=2022.7 in /usr/local/lib/python3.11/dist-packages (from pandas->pandasql) (2025.2)\n",
            "Requirement already satisfied: six>=1.5 in /usr/local/lib/python3.11/dist-packages (from python-dateutil>=2.8.2->pandas->pandasql) (1.17.0)\n",
            "Requirement already satisfied: greenlet>=1 in /usr/local/lib/python3.11/dist-packages (from sqlalchemy->pandasql) (3.2.3)\n",
            "Requirement already satisfied: typing-extensions>=4.6.0 in /usr/local/lib/python3.11/dist-packages (from sqlalchemy->pandasql) (4.14.0)\n"
          ]
        }
      ]
    },
    {
      "cell_type": "code",
      "execution_count": 19,
      "metadata": {
        "id": "E48AVYJ_11XN"
      },
      "outputs": [],
      "source": [
        "microsoft = '/content/microsoft.csv'\n",
        "oracle = '/content/oracle.csv'\n",
        "ibm = '/content/IBM.csv'\n",
        "tsla = '/content/tsla.csv'\n",
        "walmart = '/content/walmart.csv'"
      ]
    },
    {
      "cell_type": "code",
      "source": [
        "import pandas as pd\n",
        "from pandasql import sqldf\n",
        "\n",
        "df = pd.read_csv(microsoft)\n",
        "df.insert(0, 'Company', 'Microsoft')\n",
        "data_microsoft = pd.DataFrame(df)"
      ],
      "metadata": {
        "id": "b0ciLNaT4Jl4"
      },
      "execution_count": 20,
      "outputs": []
    },
    {
      "cell_type": "code",
      "source": [
        "df1 = pd.read_csv(oracle)\n",
        "df1.insert(0, 'Company', 'Oracle')\n",
        "data_oracle=pd.DataFrame(df1)"
      ],
      "metadata": {
        "id": "hAMc86CtB3ar"
      },
      "execution_count": 21,
      "outputs": []
    },
    {
      "cell_type": "code",
      "source": [
        "df2 = pd.read_csv(ibm)\n",
        "df2.insert(0, 'Company', 'IBM')\n",
        "data_ibm= pd.DataFrame(df2)"
      ],
      "metadata": {
        "id": "qPNyY_0j4ZwT"
      },
      "execution_count": 22,
      "outputs": []
    },
    {
      "cell_type": "code",
      "source": [
        "df3 = pd.read_csv(tsla)\n",
        "df3.insert(0, 'Company', 'TSLA')\n",
        "data_tsla= pd.DataFrame(df3)"
      ],
      "metadata": {
        "id": "941Z2J6L4yMD"
      },
      "execution_count": 23,
      "outputs": []
    },
    {
      "cell_type": "code",
      "source": [
        "df4 = pd.read_csv(walmart)\n",
        "df4.insert(0, 'Company', 'Walmart')\n",
        "data_wal= pd.DataFrame(df4)"
      ],
      "metadata": {
        "id": "YeOp-aPBCLld"
      },
      "execution_count": 24,
      "outputs": []
    },
    {
      "cell_type": "code",
      "source": [
        "sql_query= \"\"\"\n",
        "SELECT * FROM data_microsoft\n",
        "UNION ALL\n",
        "SELECT * FROM data_oracle\n",
        "UNION ALL\n",
        "SELECT * FROM data_ibm\n",
        "UNION ALL\n",
        "SELECT * FROM data_tsla\n",
        "UNION ALL\n",
        "SELECT * FROM data_wal\n",
        "\"\"\"\n",
        "\n",
        "df = sqldf(sql_query)\n",
        "df.to_csv('df_acoes.csv', index = False)\n"
      ],
      "metadata": {
        "id": "Kq5cOGzgDFKQ"
      },
      "execution_count": 26,
      "outputs": []
    }
  ]
}